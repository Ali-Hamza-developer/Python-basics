{
 "cells": [
  {
   "cell_type": "markdown",
   "id": "0e966fb6-0af2-4c40-a335-3d4d303a3a9f",
   "metadata": {},
   "source": [
    "# Classes"
   ]
  },
  {
   "cell_type": "code",
   "execution_count": 3,
   "id": "88cc4cff-62d2-4a61-b360-7d948e6ec098",
   "metadata": {},
   "outputs": [],
   "source": [
    "class ClassName:\n",
    "    def __init__(self, param1, param2):\n",
    "        self.param1 = param1\n",
    "        self.param2 = param2\n",
    "\n",
    "    def method_name(self):\n",
    "        print(self.param1)\n"
   ]
  },
  {
   "cell_type": "code",
   "execution_count": 5,
   "id": "b874178c-86d6-451a-ae99-fd89a2f9d568",
   "metadata": {},
   "outputs": [
    {
     "name": "stdout",
     "output_type": "stream",
     "text": [
      "Name: Ali, Age: 20\n"
     ]
    }
   ],
   "source": [
    "class Student:\n",
    "    def __init__(self, name, age):\n",
    "        self.name = name\n",
    "        self.age = age\n",
    "\n",
    "    def display_info(self):\n",
    "        print(f\"Name: {self.name}, Age: {self.age}\")\n",
    "\n",
    "# Creating object\n",
    "s1 = Student(\"Ali\", 20)\n",
    "s1.display_info()  # Output: Name: Ali, Age: 20\n"
   ]
  },
  {
   "cell_type": "code",
   "execution_count": 7,
   "id": "a7d7915f-7dbc-408f-9a5b-502ab577d85b",
   "metadata": {},
   "outputs": [
    {
     "name": "stdout",
     "output_type": "stream",
     "text": [
      "Toyota Corolla's engine started!\n"
     ]
    }
   ],
   "source": [
    "class Car:\n",
    "    def __init__(self, brand, model):\n",
    "        self.brand = brand\n",
    "        self.model = model\n",
    "\n",
    "    def start_engine(self):\n",
    "        print(f\"{self.brand} {self.model}'s engine started!\")\n",
    "\n",
    "car1 = Car(\"Toyota\", \"Corolla\")\n",
    "car1.start_engine()  # Output: Toyota Corolla's engine started!\n"
   ]
  },
  {
   "cell_type": "code",
   "execution_count": 9,
   "id": "2becdd89-8d1d-4b06-8467-91c63e32211a",
   "metadata": {},
   "outputs": [
    {
     "name": "stdout",
     "output_type": "stream",
     "text": [
      "Animal speaks\n",
      "Dog barks\n"
     ]
    }
   ],
   "source": [
    "class Animal:\n",
    "    def speak(self):\n",
    "        print(\"Animal speaks\")\n",
    "\n",
    "class Dog(Animal):\n",
    "    def speak(self):\n",
    "        print(\"Dog barks\")\n",
    "\n",
    "a = Animal()\n",
    "d = Dog()\n",
    "\n",
    "a.speak()  # Animal speaks\n",
    "d.speak()  # Dog barks (method overridden)\n"
   ]
  },
  {
   "cell_type": "code",
   "execution_count": 11,
   "id": "d69b888a-6489-4676-9162-6709b5a8e27a",
   "metadata": {},
   "outputs": [
    {
     "name": "stdout",
     "output_type": "stream",
     "text": [
      "🧾 Account Information:\n",
      "👤 Name: Ali Hamza\n",
      "🔢 Account Number: 123456789\n",
      "🏦 Bank: State Bank of Python\n",
      "💰 Current Balance: 500\n",
      "✅ 300.0 deposited successfully.\n",
      "✅ 200.0 withdrawn successfully.\n",
      "💰 Current Balance: 600.0\n",
      "❌ Deposit Error: Deposit amount must be positive.\n",
      "❌ Withdrawal Error: Insufficient balance.\n",
      "🧾 Account Information:\n",
      "👤 Name: Ali Hamza\n",
      "🔢 Account Number: 123456789\n",
      "🏦 Bank: State Bank of Python\n",
      "💰 Current Balance: 600.0\n"
     ]
    }
   ],
   "source": [
    "class BankAccount:\n",
    "    # Class variable (same for all accounts)\n",
    "    bank_name = \"State Bank of Pakistan\"\n",
    "\n",
    "    # Constructor to initialize object (runs when object is created)\n",
    "    def __init__(self, name, account_number, balance=0):\n",
    "        self.name = name\n",
    "        self.account_number = account_number\n",
    "        self.balance = balance\n",
    "\n",
    "    # Method to deposit amount\n",
    "    def deposit(self, amount):\n",
    "        try:\n",
    "            amount = float(amount)\n",
    "            if amount <= 0:\n",
    "                raise ValueError(\"Deposit amount must be positive.\")\n",
    "            self.balance += amount\n",
    "            print(f\"✅ {amount} deposited successfully.\")\n",
    "        except ValueError as e:\n",
    "            print(\"❌ Deposit Error:\", e)\n",
    "\n",
    "    # Method to withdraw amount\n",
    "    def withdraw(self, amount):\n",
    "        try:\n",
    "            amount = float(amount)\n",
    "            if amount <= 0:\n",
    "                raise ValueError(\"Withdrawal amount must be positive.\")\n",
    "            if amount > self.balance:\n",
    "                raise ValueError(\"Insufficient balance.\")\n",
    "            self.balance -= amount\n",
    "            print(f\"✅ {amount} withdrawn successfully.\")\n",
    "        except ValueError as e:\n",
    "            print(\"❌ Withdrawal Error:\", e)\n",
    "\n",
    "    # Method to check balance\n",
    "    def check_balance(self):\n",
    "        print(f\"💰 Current Balance: {self.balance}\")\n",
    "\n",
    "    # Method to display account info\n",
    "    def display_info(self):\n",
    "        print(\"🧾 Account Information:\")\n",
    "        print(f\"👤 Name: {self.name}\")\n",
    "        print(f\"🔢 Account Number: {self.account_number}\")\n",
    "        print(f\"🏦 Bank: {BankAccount.bank_name}\")\n",
    "        self.check_balance()\n",
    "\n",
    "# -----------------------------\n",
    "# Create and Use the Object\n",
    "# -----------------------------\n",
    "\n",
    "# Create account\n",
    "account1 = BankAccount(\"Ali Hamza\", \"123456789\", 500)\n",
    "\n",
    "# Display Info\n",
    "account1.display_info()\n",
    "\n",
    "# Deposit money\n",
    "account1.deposit(300)\n",
    "\n",
    "# Withdraw money\n",
    "account1.withdraw(200)\n",
    "\n",
    "# Check balance\n",
    "account1.check_balance()\n",
    "\n",
    "# Try invalid deposit\n",
    "account1.deposit(-50)\n",
    "\n",
    "# Try withdrawing more than balance\n",
    "account1.withdraw(2000)\n",
    "\n",
    "# Final account status\n",
    "account1.display_info()\n"
   ]
  },
  {
   "cell_type": "markdown",
   "id": "f9d506ea-95de-437c-8b81-7142cacb89a7",
   "metadata": {},
   "source": [
    "## Constructors"
   ]
  },
  {
   "cell_type": "code",
   "execution_count": 14,
   "id": "32eec830-0c44-4ec1-a4ae-9898d9243084",
   "metadata": {},
   "outputs": [
    {
     "name": "stdout",
     "output_type": "stream",
     "text": [
      "Brand: Toyota, Model: Corolla\n",
      "Brand: Honda, Model: Civic\n"
     ]
    }
   ],
   "source": [
    "class Car:\n",
    "    def __init__(self, brand=\"Toyota\", model=\"Corolla\"):\n",
    "        self.brand = brand\n",
    "        self.model = model\n",
    "\n",
    "    def show(self):\n",
    "        print(f\"Brand: {self.brand}, Model: {self.model}\")\n",
    "\n",
    "car1 = Car()\n",
    "car1.show()  # Brand: Toyota, Model: Corolla\n",
    "\n",
    "car2 = Car(\"Honda\", \"Civic\")\n",
    "car2.show()  # Brand: Honda, Model: Civic\n"
   ]
  },
  {
   "cell_type": "code",
   "execution_count": 18,
   "id": "5f3da4a1-f0f3-4172-802b-abce78e6ff4f",
   "metadata": {},
   "outputs": [
    {
     "name": "stdout",
     "output_type": "stream",
     "text": [
      "⚠️ Invalid balance! Set to 0.\n",
      "Ali - Balance: 5000\n"
     ]
    }
   ],
   "source": [
    "class Account:\n",
    "    def __init__(self, name, balance):\n",
    "        self.name = name\n",
    "        if balance < 0:\n",
    "            self.balance = 5000\n",
    "            print(\"⚠️ Invalid balance! Set to 0.\")\n",
    "        else:\n",
    "            self.balance = balance\n",
    "\n",
    "    def show(self):\n",
    "        print(f\"{self.name} - Balance: {self.balance}\")\n",
    "\n",
    "a = Account(\"Ali\", -100)\n",
    "a.show()\n"
   ]
  },
  {
   "cell_type": "markdown",
   "id": "297d57f2-ec5f-4c2b-95b3-2646febabbbf",
   "metadata": {},
   "source": [
    "## Inheritance "
   ]
  },
  {
   "cell_type": "code",
   "execution_count": 25,
   "id": "c4fed508-f351-45c9-9019-26a9f000ac40",
   "metadata": {},
   "outputs": [
    {
     "name": "stdout",
     "output_type": "stream",
     "text": [
      "Animal makes a sound\n",
      "Dog barks\n"
     ]
    }
   ],
   "source": [
    "class Animal:\n",
    "    def speak(self):\n",
    "        print(\"Animal makes a sound\")\n",
    "\n",
    "class Dog(Animal):  # Dog inherits Animal\n",
    "    def bark(self):\n",
    "        print(\"Dog barks\")\n",
    "\n",
    "# Create object of Dog\n",
    "d = Dog()\n",
    "d.speak()  # Inherited method\n",
    "d.bark()   # Own method\n"
   ]
  },
  {
   "cell_type": "code",
   "execution_count": 39,
   "id": "279b29d5-7456-4e6e-9be0-61d129a30dc3",
   "metadata": {},
   "outputs": [
    {
     "name": "stdout",
     "output_type": "stream",
     "text": [
      "Walk\n",
      "BARK BARK\n",
      "Meow Meow\n"
     ]
    }
   ],
   "source": [
    "class Mammal:\n",
    "    def walk(self):\n",
    "        print(\"Walk\")\n",
    "\n",
    "class Dog(Mammal):\n",
    "    def bark(self):\n",
    "        print(\"BARK BARK\")\n",
    "\n",
    "class Cat(Mammal):\n",
    "    def meow(self):\n",
    "        print(\"Meow Meow\")\n",
    "\n",
    "dog1 = Dog()\n",
    "dog1.walk()\n",
    "dog1.bark()\n",
    "dog2 = Cat()\n",
    "dog2.meow()"
   ]
  },
  {
   "cell_type": "code",
   "execution_count": 41,
   "id": "40f54424-744d-4b01-b750-474bf40a2555",
   "metadata": {},
   "outputs": [
    {
     "name": "stdout",
     "output_type": "stream",
     "text": [
      "Name: Ali\n",
      "ID: 123\n"
     ]
    }
   ],
   "source": [
    "class Person:\n",
    "    def __init__(self, name):\n",
    "        self.name = name\n",
    "\n",
    "    def show(self):\n",
    "        print(\"Name:\", self.name)\n",
    "\n",
    "class Student(Person):\n",
    "    def __init__(self, name, student_id):\n",
    "        super().__init__(name)        # Call parent constructor\n",
    "        self.student_id = student_id\n",
    "\n",
    "    def display(self):\n",
    "        self.show()\n",
    "        print(\"ID:\", self.student_id)\n",
    "\n",
    "s = Student(\"Ali\", 123)\n",
    "s.display()\n"
   ]
  },
  {
   "cell_type": "code",
   "execution_count": 43,
   "id": "a5a36f4d-605c-4c3a-9f6b-3f73fdc72696",
   "metadata": {},
   "outputs": [
    {
     "name": "stdout",
     "output_type": "stream",
     "text": [
      "Grandparent’s house\n",
      "Parent’s car\n",
      "Child’s mobile\n"
     ]
    }
   ],
   "source": [
    "class Grandparent:\n",
    "    def home(self):\n",
    "        print(\"Grandparent’s house\")\n",
    "\n",
    "class Parent(Grandparent):\n",
    "    def car(self):\n",
    "        print(\"Parent’s car\")\n",
    "\n",
    "class Child(Parent):\n",
    "    def mobile(self):\n",
    "        print(\"Child’s mobile\")\n",
    "\n",
    "c = Child()\n",
    "c.home()\n",
    "c.car()\n",
    "c.mobile()\n"
   ]
  },
  {
   "cell_type": "code",
   "execution_count": 45,
   "id": "73f034b8-849b-4fbe-b67b-60f4978a316a",
   "metadata": {},
   "outputs": [
    {
     "name": "stdout",
     "output_type": "stream",
     "text": [
      "Employee: Sara, Salary: 80000\n",
      "Department: HR\n"
     ]
    }
   ],
   "source": [
    "class Employee:\n",
    "    def __init__(self, name, salary):\n",
    "        self.name = name\n",
    "        self.salary = salary\n",
    "\n",
    "    def show(self):\n",
    "        print(f\"Employee: {self.name}, Salary: {self.salary}\")\n",
    "\n",
    "class Manager(Employee):\n",
    "    def __init__(self, name, salary, department):\n",
    "        super().__init__(name, salary)\n",
    "        self.department = department\n",
    "\n",
    "    def show(self):\n",
    "        super().show()\n",
    "        print(f\"Department: {self.department}\")\n",
    "\n",
    "m = Manager(\"Sara\", 80000, \"HR\")\n",
    "m.show()\n"
   ]
  },
  {
   "cell_type": "code",
   "execution_count": null,
   "id": "4aac8f94-b932-455f-8bd5-37b2913c1dac",
   "metadata": {},
   "outputs": [],
   "source": []
  }
 ],
 "metadata": {
  "kernelspec": {
   "display_name": "Python [conda env:base] *",
   "language": "python",
   "name": "conda-base-py"
  },
  "language_info": {
   "codemirror_mode": {
    "name": "ipython",
    "version": 3
   },
   "file_extension": ".py",
   "mimetype": "text/x-python",
   "name": "python",
   "nbconvert_exporter": "python",
   "pygments_lexer": "ipython3",
   "version": "3.12.7"
  }
 },
 "nbformat": 4,
 "nbformat_minor": 5
}
