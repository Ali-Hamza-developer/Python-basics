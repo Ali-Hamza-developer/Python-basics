{
 "cells": [
  {
   "cell_type": "markdown",
   "id": "395e90b4-6671-486b-affb-3cf5a738f486",
   "metadata": {},
   "source": [
    "# Lists"
   ]
  },
  {
   "cell_type": "code",
   "execution_count": 8,
   "id": "ec652ce4-da59-463e-8566-9cb76c84ee4c",
   "metadata": {},
   "outputs": [
    {
     "name": "stdout",
     "output_type": "stream",
     "text": [
      "['ALI', 'Hamza', 'Hassan', 'John']\n",
      "ALI\n",
      "John\n",
      "['ALI', 'Hamza', 'Hassan']\n"
     ]
    }
   ],
   "source": [
    "names = [\"ALI\", \"Hamza\", \"Hassan\", \"John\"]\n",
    "print(names)\n",
    "print(names[0])\n",
    "print(names[-1])\n",
    "print(names[0:3])"
   ]
  },
  {
   "cell_type": "code",
   "execution_count": 10,
   "id": "80e31cf5-b426-426b-abb6-efa5bf278ad1",
   "metadata": {},
   "outputs": [
    {
     "name": "stdout",
     "output_type": "stream",
     "text": [
      "The largest number is: 12\n"
     ]
    }
   ],
   "source": [
    "numbers = [3, 7, 2, 9, 5, 12, 4]\n",
    "largest = numbers[0]  # Assume first number is the largest\n",
    "\n",
    "for number in numbers:\n",
    "    if number > largest:\n",
    "        largest = number\n",
    "\n",
    "print(f\"The largest number is: {largest}\")\n"
   ]
  },
  {
   "cell_type": "markdown",
   "id": "0c8ef0cc-45fa-497a-9a99-ca662ceeec67",
   "metadata": {},
   "source": [
    "## 2D Lists"
   ]
  },
  {
   "cell_type": "code",
   "execution_count": 15,
   "id": "eab3a241-5a6f-45c8-9f39-0e6891ead5c3",
   "metadata": {},
   "outputs": [
    {
     "name": "stdout",
     "output_type": "stream",
     "text": [
      "2\n",
      "9\n"
     ]
    }
   ],
   "source": [
    "matrix = [\n",
    "    [1, 2, 3],     # Row 0\n",
    "    [4, 5, 6],     # Row 1\n",
    "    [7, 8, 9]      # Row 2\n",
    "]\n",
    "print(matrix[0][1])  # Output: 2 (Row 0, Column 1)\n",
    "print(matrix[2][2])  # Output: 9\n"
   ]
  },
  {
   "cell_type": "code",
   "execution_count": 27,
   "id": "bbdec202-5900-420b-a54e-dc6ae151c04a",
   "metadata": {},
   "outputs": [
    {
     "name": "stdout",
     "output_type": "stream",
     "text": [
      "[[1, 2, 3], [4, 55, 6], [7, 8, 9]]\n"
     ]
    }
   ],
   "source": [
    "matrix[1][1] = 55\n",
    "print(matrix)\n"
   ]
  },
  {
   "cell_type": "code",
   "execution_count": 29,
   "id": "80115324-b968-456e-84a4-ed2691e837ad",
   "metadata": {},
   "outputs": [
    {
     "name": "stdout",
     "output_type": "stream",
     "text": [
      "1 2 3 \n",
      "4 55 6 \n",
      "7 8 9 \n"
     ]
    }
   ],
   "source": [
    "for row in matrix:\n",
    "    for item in row:\n",
    "        print(item, end=\" \")\n",
    "    print()\n"
   ]
  },
  {
   "cell_type": "code",
   "execution_count": 31,
   "id": "b54e2561-0a51-4ddd-ac43-4e0f23ee0435",
   "metadata": {},
   "outputs": [
    {
     "name": "stdout",
     "output_type": "stream",
     "text": [
      "Total: 95\n"
     ]
    }
   ],
   "source": [
    "total = 0\n",
    "for row in matrix:\n",
    "    for item in row:\n",
    "        total += item\n",
    "print(\"Total:\", total)\n"
   ]
  },
  {
   "cell_type": "code",
   "execution_count": 33,
   "id": "26f900b4-fd8a-417c-8762-5ca75a563c97",
   "metadata": {},
   "outputs": [
    {
     "name": "stdout",
     "output_type": "stream",
     "text": [
      "Total: 45\n"
     ]
    }
   ],
   "source": [
    "matrix = [\n",
    "    [1, 2, 3],     # Row 0\n",
    "    [4, 5, 6],     # Row 1\n",
    "    [7, 8, 9]      # Row 2\n",
    "]\n",
    "\n",
    "total = 0\n",
    "for row in matrix:\n",
    "    for item in row:\n",
    "        total += item\n",
    "print(\"Total:\", total)\n"
   ]
  },
  {
   "cell_type": "markdown",
   "id": "fd0e33bb-423d-4561-87d8-ee4808b0a198",
   "metadata": {},
   "source": [
    "### List Methods"
   ]
  },
  {
   "cell_type": "raw",
   "id": "35ad6e27-1cf1-4f10-9db0-315b5b6d8830",
   "metadata": {},
   "source": [
    "my_list = [3, 1, 4, 1, 5, 9]\n",
    "\n",
    "my_list.append(6)          # Add 6 at the end\n",
    "my_list.insert(2, 10)      # Insert 10 at index 2\n",
    "my_list.remove(1)          # Remove the first occurrence of 1\n",
    "my_list.pop()              # Remove the last item\n",
    "my_list.clear()            # Remove all items (empty the list)\n",
    "my_list.extend([7, 8, 9])  # Add multiple items at the end\n",
    "\n",
    "my_list.sort()             # Sort the list in ascending order\n",
    "my_list.reverse()          # Reverse the list\n",
    "\n",
    "my_list.index(5)           # Get the index of the first occurrence of 5\n",
    "my_list.count(1)           # Count how many times 1 appears in the list\n",
    "\n",
    "len(my_list)               # Get the total number of items\n",
    "min(my_list)               # Get the smallest number\n",
    "max(my_list)               # Get the largest number\n",
    "sum(my_list)               # Get the sum of all elements\n"
   ]
  },
  {
   "cell_type": "code",
   "execution_count": null,
   "id": "c3aa1bd9-2823-4397-9d1d-fe33d7551dc7",
   "metadata": {},
   "outputs": [],
   "source": []
  }
 ],
 "metadata": {
  "kernelspec": {
   "display_name": "Python [conda env:base] *",
   "language": "python",
   "name": "conda-base-py"
  },
  "language_info": {
   "codemirror_mode": {
    "name": "ipython",
    "version": 3
   },
   "file_extension": ".py",
   "mimetype": "text/x-python",
   "name": "python",
   "nbconvert_exporter": "python",
   "pygments_lexer": "ipython3",
   "version": "3.12.7"
  }
 },
 "nbformat": 4,
 "nbformat_minor": 5
}
