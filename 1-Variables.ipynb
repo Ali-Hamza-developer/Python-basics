{
 "cells": [
  {
   "cell_type": "markdown",
   "id": "30270b8b-0637-4da8-a3e8-f83e4679a058",
   "metadata": {},
   "source": [
    "# *VARIABLES*"
   ]
  },
  {
   "cell_type": "code",
   "execution_count": 3,
   "id": "eeb4c8ff-4405-4f9e-9b39-4cf3219b6873",
   "metadata": {},
   "outputs": [
    {
     "name": "stdout",
     "output_type": "stream",
     "text": [
      "30\n"
     ]
    }
   ],
   "source": [
    "price = 10\n",
    "price = 30\n",
    "print (price)"
   ]
  },
  {
   "cell_type": "code",
   "execution_count": 5,
   "id": "710637ef-6116-4839-9f17-ef03205a4acb",
   "metadata": {},
   "outputs": [
    {
     "name": "stdout",
     "output_type": "stream",
     "text": [
      "43.5\n",
      "12\n",
      "ALI HAMZA\n",
      "False\n"
     ]
    }
   ],
   "source": [
    "price = 43.5\n",
    "age = 12\n",
    "name = \"ALI HAMZA\"\n",
    "is_true = False\n",
    "\n",
    "print(price)\n",
    "print(age)\n",
    "print(name)\n",
    "print(is_true)\n",
    "\n",
    "\n"
   ]
  },
  {
   "cell_type": "markdown",
   "id": "f1b4cc95-307d-4b15-9c32-4232639b57a0",
   "metadata": {},
   "source": [
    "* we check a patient name and it age 20 years old.*\n",
    "* It is a new patient.*"
   ]
  },
  {
   "cell_type": "code",
   "execution_count": 10,
   "id": "477d5cf0-733f-4dcb-8175-d56e53f67f36",
   "metadata": {},
   "outputs": [
    {
     "name": "stdout",
     "output_type": "stream",
     "text": [
      "ALi Hamza\n",
      "20\n",
      "True\n"
     ]
    }
   ],
   "source": [
    "full_name = \"ALi Hamza\"\n",
    "age = 20\n",
    "is_new = True\n",
    "\n",
    "print(full_name)\n",
    "print(age)\n",
    "print(is_new)"
   ]
  },
  {
   "cell_type": "code",
   "execution_count": 12,
   "id": "99740e9f-df8b-4143-8373-b9d19b48c87b",
   "metadata": {},
   "outputs": [
    {
     "ename": "TypeError",
     "evalue": "can only concatenate str (not \"int\") to str",
     "output_type": "error",
     "traceback": [
      "\u001b[1;31m---------------------------------------------------------------------------\u001b[0m",
      "\u001b[1;31mTypeError\u001b[0m                                 Traceback (most recent call last)",
      "Cell \u001b[1;32mIn[12], line 3\u001b[0m\n\u001b[0;32m      1\u001b[0m marks \u001b[38;5;241m=\u001b[39m \u001b[38;5;124m\"\u001b[39m\u001b[38;5;124m85\u001b[39m\u001b[38;5;124m\"\u001b[39m  \n\u001b[0;32m      2\u001b[0m bonus \u001b[38;5;241m=\u001b[39m \u001b[38;5;241m5\u001b[39m  \n\u001b[1;32m----> 3\u001b[0m total \u001b[38;5;241m=\u001b[39m marks \u001b[38;5;241m+\u001b[39m bonus\n",
      "\u001b[1;31mTypeError\u001b[0m: can only concatenate str (not \"int\") to str"
     ]
    }
   ],
   "source": [
    "marks = \"85\"  \n",
    "bonus = 5  \n",
    "total = marks + bonus  \n"
   ]
  },
  {
   "cell_type": "code",
   "execution_count": 14,
   "id": "ea89bd3e-a5a6-4047-8cb2-4ec998c372de",
   "metadata": {},
   "outputs": [
    {
     "name": "stdout",
     "output_type": "stream",
     "text": [
      "My age is 21\n"
     ]
    }
   ],
   "source": [
    "age = 20  \n",
    "age = age + 1  \n",
    "print(\"My age is\", age)  \n"
   ]
  },
  {
   "cell_type": "code",
   "execution_count": 16,
   "id": "640e33cd-b8d2-4337-b054-dde9290d6f29",
   "metadata": {},
   "outputs": [
    {
     "name": "stdout",
     "output_type": "stream",
     "text": [
      "AliKhan\n"
     ]
    }
   ],
   "source": [
    "first_name = \"Ali\"  \n",
    "last_name = \"Khan\"  \n",
    "full_name = first_name + last_name  \n",
    "print(full_name)  \n"
   ]
  },
  {
   "cell_type": "code",
   "execution_count": null,
   "id": "e8d16e96-6183-4449-8f22-9ab666480c54",
   "metadata": {},
   "outputs": [],
   "source": []
  }
 ],
 "metadata": {
  "kernelspec": {
   "display_name": "Python [conda env:base] *",
   "language": "python",
   "name": "conda-base-py"
  },
  "language_info": {
   "codemirror_mode": {
    "name": "ipython",
    "version": 3
   },
   "file_extension": ".py",
   "mimetype": "text/x-python",
   "name": "python",
   "nbconvert_exporter": "python",
   "pygments_lexer": "ipython3",
   "version": "3.12.7"
  }
 },
 "nbformat": 4,
 "nbformat_minor": 5
}
