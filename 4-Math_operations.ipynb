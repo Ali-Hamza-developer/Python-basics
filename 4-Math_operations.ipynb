{
 "cells": [
  {
   "cell_type": "markdown",
   "id": "a280fc79-4643-4434-ae12-b3dc49d6af95",
   "metadata": {},
   "source": [
    "# Artimetic_OPerations"
   ]
  },
  {
   "cell_type": "code",
   "execution_count": 4,
   "id": "5e9b828f-f52b-4fb2-908a-418f3a4b3688",
   "metadata": {},
   "outputs": [
    {
     "name": "stdout",
     "output_type": "stream",
     "text": [
      "13\n",
      "7\n",
      "30\n",
      "3.3333333333333335\n",
      "1\n",
      "3\n"
     ]
    }
   ],
   "source": [
    "print(10+3)\n",
    "print(10-3)\n",
    "print(10*3)\n",
    "print(10/3)\n",
    "print(10%3)\n",
    "print(10//3)   #give me ans in integer "
   ]
  },
  {
   "cell_type": "code",
   "execution_count": 6,
   "id": "e5fe7508-d17d-48e9-b2f6-082987a69dcb",
   "metadata": {},
   "outputs": [
    {
     "name": "stdout",
     "output_type": "stream",
     "text": [
      "1000\n"
     ]
    }
   ],
   "source": [
    "print(10 ** 3) # 10 k power 3"
   ]
  },
  {
   "cell_type": "code",
   "execution_count": 16,
   "id": "8b0ee9a5-a68c-4a9f-93f4-9021d356e584",
   "metadata": {},
   "outputs": [
    {
     "name": "stdout",
     "output_type": "stream",
     "text": [
      "20\n",
      "20\n"
     ]
    }
   ],
   "source": [
    "x = 10\n",
    "x = x + 3\n",
    "x +=7 #Argumented assignment Opeartor\n",
    "print(x)\n",
    "print(x)"
   ]
  },
  {
   "cell_type": "markdown",
   "id": "6db37003-21c1-4031-ad5b-24e3472f198c",
   "metadata": {},
   "source": [
    "### operator precedence "
   ]
  },
  {
   "cell_type": "markdown",
   "id": "20a8caaf-c598-4e6a-92bb-1e1c187609d5",
   "metadata": {},
   "source": [
    "*Follow PEMDAS/BODMAS:*\n",
    "\n",
    "** (Exponentiation)\n",
    "\n",
    "*, // (Multiplication and Floor Division – left to right)\n",
    "\n",
    "+, - (Addition and Subtraction – left to right)"
   ]
  },
  {
   "cell_type": "code",
   "execution_count": 20,
   "id": "1d5534b0-304d-467f-b074-66e6de445985",
   "metadata": {},
   "outputs": [
    {
     "name": "stdout",
     "output_type": "stream",
     "text": [
      "14\n"
     ]
    }
   ],
   "source": [
    "result = 10 + 2 * 3 ** 2 // 2 - 5\n",
    "print(result)\n"
   ]
  },
  {
   "cell_type": "markdown",
   "id": "bab4e738-e484-491b-b41c-1a41bb6899af",
   "metadata": {},
   "source": [
    "### Math functions"
   ]
  },
  {
   "cell_type": "raw",
   "id": "78c966f2-eb52-4838-8015-c94750ff2515",
   "metadata": {},
   "source": [
    "\n",
    "abs(x)        # Absolute value\n",
    "pow(x, y)     # x raised to the power y\n",
    "round(x)      # Round to nearest integer\n",
    "round(x, n)   # Round to n decimal places\n",
    "max(a, b, ...)# Largest number\n",
    "min(a, b, ...)# Smallest number\n",
    "sum(list)     # Sum of a list\n",
    "divmod(a, b)  # Returns (quotient, remainder)\n"
   ]
  },
  {
   "cell_type": "code",
   "execution_count": 30,
   "id": "f3e93c36-dbec-46aa-91ff-605b27d9f8f6",
   "metadata": {},
   "outputs": [
    {
     "name": "stdout",
     "output_type": "stream",
     "text": [
      "Max value: 150.0\n",
      "Min value: 3\n",
      "Sum of prices: 630.0\n",
      "Square root of price: 12.25\n",
      "Factorial of quantity: 6\n"
     ]
    }
   ],
   "source": [
    "import math\n",
    "\n",
    "price = 150.0\n",
    "discount_percent = 20\n",
    "quantity = 3\n",
    "\n",
    "# 1. pow() → Calculate discount amount\n",
    "discount = price * pow(discount_percent / 100, 1)    # 150 * 0.20 = 30.0\n",
    "\n",
    "# 2. abs() → Final price after discount\n",
    "discounted_price = abs(price - discount)             # abs(150 - 30) = 120.0\n",
    "\n",
    "# 3. round() → Rounded total price\n",
    "total_price = discounted_price * quantity            # 120 * 3 = 360.0\n",
    "rounded_total = round(total_price, 2)                # 360.0\n",
    "\n",
    "# 4. divmod() → Currency breakdown\n",
    "bundles, remaining = divmod(int(rounded_total), 100) # divmod(360, 100) = (3, 60)\n",
    "\n",
    "# 5. max() and min()\n",
    "print(\"Max value:\", max(price, quantity))            # max(150.0, 3) = 150.0\n",
    "print(\"Min value:\", min(price, quantity))            # min(150.0, 3) = 3\n",
    "\n",
    "# 6. sum()\n",
    "prices = [price, discounted_price, total_price]\n",
    "print(\"Sum of prices:\", sum(prices))                 # 150 + 120 + 360 = 630.0\n",
    "\n",
    "# 7. math.sqrt()\n",
    "print(\"Square root of price:\", round(math.sqrt(price), 2))  # √150 ≈ 12.25\n",
    "\n",
    "# 8. math.factorial()\n",
    "print(\"Factorial of quantity:\", math.factorial(quantity))   # 3! = 6\n"
   ]
  },
  {
   "cell_type": "code",
   "execution_count": null,
   "id": "8a4f29cb-9f8b-4ee6-9ac4-ceaa677e06f7",
   "metadata": {},
   "outputs": [],
   "source": []
  }
 ],
 "metadata": {
  "kernelspec": {
   "display_name": "Python [conda env:base] *",
   "language": "python",
   "name": "conda-base-py"
  },
  "language_info": {
   "codemirror_mode": {
    "name": "ipython",
    "version": 3
   },
   "file_extension": ".py",
   "mimetype": "text/x-python",
   "name": "python",
   "nbconvert_exporter": "python",
   "pygments_lexer": "ipython3",
   "version": "3.12.7"
  }
 },
 "nbformat": 4,
 "nbformat_minor": 5
}
