{
 "cells": [
  {
   "cell_type": "markdown",
   "id": "512f493b-be66-4b61-b211-ea51222a7ad4",
   "metadata": {},
   "source": [
    "# *INPUTS*"
   ]
  },
  {
   "cell_type": "code",
   "execution_count": 2,
   "id": "9f1c4191-fbe5-4bf4-9c72-c9eba6e30d29",
   "metadata": {},
   "outputs": [
    {
     "name": "stdin",
     "output_type": "stream",
     "text": [
      "What is your name ? Ali Hamza\n"
     ]
    },
    {
     "data": {
      "text/plain": [
       "'Ali Hamza'"
      ]
     },
     "execution_count": 2,
     "metadata": {},
     "output_type": "execute_result"
    }
   ],
   "source": [
    "input(\"What is your name ?\")"
   ]
  },
  {
   "cell_type": "code",
   "execution_count": 3,
   "id": "748afaec-21d3-4d13-ab02-0ee34a57ed2c",
   "metadata": {},
   "outputs": [
    {
     "name": "stdin",
     "output_type": "stream",
     "text": [
      "What is your name ? Hamza\n"
     ]
    },
    {
     "name": "stdout",
     "output_type": "stream",
     "text": [
      "HI Hamza\n"
     ]
    }
   ],
   "source": [
    "name = input(\"What is your name ?\")\n",
    "print (\"HI\" +\" \" + name)"
   ]
  },
  {
   "cell_type": "code",
   "execution_count": 4,
   "id": "ffe9fcdb-587d-498e-a024-03f31aae9e17",
   "metadata": {},
   "outputs": [
    {
     "name": "stdin",
     "output_type": "stream",
     "text": [
      "Whats your name?  Hamza\n",
      "Whats your favourite color?  Blue\n"
     ]
    },
    {
     "name": "stdout",
     "output_type": "stream",
     "text": [
      "Hamza likes Blue Color\n"
     ]
    }
   ],
   "source": [
    "name = input(\"Whats your name? \")\n",
    "color = input(\"Whats your favourite color? \")\n",
    "print(name  +\" likes \" +color +\" Color\")"
   ]
  },
  {
   "cell_type": "code",
   "execution_count": 7,
   "id": "070b51c3-dc2d-47bc-b048-69b39459b91d",
   "metadata": {},
   "outputs": [
    {
     "name": "stdin",
     "output_type": "stream",
     "text": [
      "Enter first number:  23\n",
      "Enter second number:  56\n"
     ]
    },
    {
     "name": "stdout",
     "output_type": "stream",
     "text": [
      "Sum is: 79\n"
     ]
    }
   ],
   "source": [
    "num1 = input(\"Enter first number: \")\n",
    "num2 = input(\"Enter second number: \")\n",
    "total = int(num1) + int(num2)\n",
    "print(\"Sum is:\", total)\n"
   ]
  },
  {
   "cell_type": "code",
   "execution_count": 11,
   "id": "f65c2d7a-a93e-49f4-8cc4-a976408481b9",
   "metadata": {},
   "outputs": [
    {
     "name": "stdin",
     "output_type": "stream",
     "text": [
      "Enter your Birthdate!  2006\n"
     ]
    },
    {
     "name": "stdout",
     "output_type": "stream",
     "text": [
      "<class 'str'>\n",
      "<class 'int'>\n",
      "19\n"
     ]
    }
   ],
   "source": [
    "birth_date = input(\"Enter your Birthdate! \")\n",
    "print(type(birth_date))\n",
    "age = 2025 - int(birth_date)\n",
    "print(type(age))\n",
    "print(age)"
   ]
  },
  {
   "cell_type": "markdown",
   "id": "ef13513d-3b95-4f8d-a352-439f1582aee0",
   "metadata": {},
   "source": [
    "# Convert Weight to Kilograms"
   ]
  },
  {
   "cell_type": "code",
   "execution_count": 16,
   "id": "e3321bd8-0254-4b74-ba16-0a4016659bf5",
   "metadata": {},
   "outputs": [
    {
     "name": "stdin",
     "output_type": "stream",
     "text": [
      "Enter your weight:  67\n",
      "Is it in (kg)?  kg\n"
     ]
    },
    {
     "name": "stdout",
     "output_type": "stream",
     "text": [
      "Your weight in kilograms is: 67.0 kg\n"
     ]
    }
   ],
   "source": [
    "weight = float(input(\"Enter your weight: \"))\n",
    "unit = input(\"Is it in (kg)? \")\n",
    "\n",
    "if unit == \"kg\":\n",
    "    print(\"Your weight in kilograms is:\", weight, \"kg\")\n",
    "else:\n",
    "    print(\"Invalid unit. Please enter kg\")\n"
   ]
  },
  {
   "cell_type": "code",
   "execution_count": null,
   "id": "e022f016-ff8e-459c-a060-41ebbf2522eb",
   "metadata": {},
   "outputs": [],
   "source": []
  }
 ],
 "metadata": {
  "kernelspec": {
   "display_name": "Python [conda env:base] *",
   "language": "python",
   "name": "conda-base-py"
  },
  "language_info": {
   "codemirror_mode": {
    "name": "ipython",
    "version": 3
   },
   "file_extension": ".py",
   "mimetype": "text/x-python",
   "name": "python",
   "nbconvert_exporter": "python",
   "pygments_lexer": "ipython3",
   "version": "3.12.7"
  }
 },
 "nbformat": 4,
 "nbformat_minor": 5
}
