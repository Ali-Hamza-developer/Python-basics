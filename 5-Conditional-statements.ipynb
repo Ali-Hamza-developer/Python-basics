{
 "cells": [
  {
   "cell_type": "markdown",
   "id": "1f7ad0cd-4fc4-447a-99d3-72fab23a09fa",
   "metadata": {},
   "source": [
    "## If-Else Statement"
   ]
  },
  {
   "cell_type": "code",
   "execution_count": 11,
   "id": "f12d086b-8a5c-4bec-a1dc-c45aeae8a765",
   "metadata": {},
   "outputs": [
    {
     "name": "stdout",
     "output_type": "stream",
     "text": [
      "Enjoy hot day\n"
     ]
    }
   ],
   "source": [
    "is_hot = True\n",
    "is_cold = False\n",
    "\n",
    "if is_hot:\n",
    "    print(\"Enjoy hot day\")\n",
    "elif is_cold:\n",
    "    print(\"Enjoy cold day\")\n",
    "else:\n",
    "    print(\"Bad day\")"
   ]
  },
  {
   "cell_type": "code",
   "execution_count": 13,
   "id": "9e5d2516-e0e7-4e62-bdb5-8135bc6ac56c",
   "metadata": {},
   "outputs": [
    {
     "name": "stdout",
     "output_type": "stream",
     "text": [
      "Bad day\n"
     ]
    }
   ],
   "source": [
    "is_hot = False\n",
    "is_cold = False\n",
    "\n",
    "if is_hot:\n",
    "    print(\"Enjoy hot day\")\n",
    "elif is_cold:\n",
    "    print(\"Enjoy cold day\")\n",
    "else:\n",
    "    print(\"Bad day\")"
   ]
  },
  {
   "cell_type": "code",
   "execution_count": 7,
   "id": "ac03ac8a-46c7-4771-9ba5-82524ddc6962",
   "metadata": {},
   "outputs": [
    {
     "name": "stdout",
     "output_type": "stream",
     "text": [
      "Payment of house is $100000.0\n"
     ]
    }
   ],
   "source": [
    "price = 1000000\n",
    "good_credit = True\n",
    "\n",
    "if good_credit:\n",
    "    payment = 0.1 * price\n",
    "else:\n",
    "    payment = 0.2 * price\n",
    "\n",
    "print(f\"Payment of house is ${payment}\")\n"
   ]
  },
  {
   "cell_type": "code",
   "execution_count": 9,
   "id": "c6dd6fee-0786-4916-a774-bfba6a089a9f",
   "metadata": {},
   "outputs": [
    {
     "name": "stdin",
     "output_type": "stream",
     "text": [
      "Enter a number:  3\n"
     ]
    },
    {
     "name": "stdout",
     "output_type": "stream",
     "text": [
      "Positive number\n"
     ]
    }
   ],
   "source": [
    "#✅ Check if number is positive or negative\n",
    "num = int(input(\"Enter a number: \"))\n",
    "\n",
    "if num > 0:\n",
    "    print(\"Positive number\")\n",
    "else:\n",
    "    print(\"Negative number or zero\")"
   ]
  },
  {
   "cell_type": "code",
   "execution_count": 11,
   "id": "fc093369-0a8b-4324-97b6-99d63014463d",
   "metadata": {},
   "outputs": [
    {
     "name": "stdin",
     "output_type": "stream",
     "text": [
      "Enter your age:  34\n"
     ]
    },
    {
     "name": "stdout",
     "output_type": "stream",
     "text": [
      "Eligible to vote\n"
     ]
    }
   ],
   "source": [
    "#✅ Check Age for Voting\n",
    "age = int(input(\"Enter your age: \"))\n",
    "\n",
    "if age >= 18:\n",
    "    print(\"Eligible to vote\")\n",
    "else:\n",
    "    print(\"Not eligible to vote\")"
   ]
  },
  {
   "cell_type": "code",
   "execution_count": 15,
   "id": "79fbfdab-e217-4efc-9bec-291e4fd14dd7",
   "metadata": {},
   "outputs": [
    {
     "name": "stdin",
     "output_type": "stream",
     "text": [
      "Enter your marks:  23\n"
     ]
    },
    {
     "name": "stdout",
     "output_type": "stream",
     "text": [
      "Grade: F\n"
     ]
    }
   ],
   "source": [
    "#✅ Grading System using elif\n",
    "marks = int(input(\"Enter your marks: \"))\n",
    "\n",
    "if marks >= 90:\n",
    "    print(\"Grade: A\")\n",
    "elif marks >= 80:\n",
    "    print(\"Grade: B\")\n",
    "elif marks >= 70:\n",
    "    print(\"Grade: C\")\n",
    "else:\n",
    "    print(\"Grade: F\")"
   ]
  },
  {
   "cell_type": "markdown",
   "id": "61b1d80e-392f-49db-8547-7e9b26e9a6e0",
   "metadata": {},
   "source": [
    "### Logical Operators"
   ]
  },
  {
   "cell_type": "code",
   "execution_count": 25,
   "id": "e2afd362-c524-4b96-8770-8bd739343b35",
   "metadata": {},
   "outputs": [
    {
     "name": "stdout",
     "output_type": "stream",
     "text": [
      "Student failed\n"
     ]
    }
   ],
   "source": [
    "#✅ Check Multiple Conditions\n",
    "score = 65\n",
    "attendance = 90\n",
    "\n",
    "if score > 70 and attendance > 75:\n",
    "    print(\"Student passed\")\n",
    "else:\n",
    "    print(\"Student failed\")"
   ]
  },
  {
   "cell_type": "code",
   "execution_count": 27,
   "id": "f5512ea3-253f-49f3-b849-591c5cef0436",
   "metadata": {},
   "outputs": [
    {
     "name": "stdout",
     "output_type": "stream",
     "text": [
      "Eligible for Loan\n"
     ]
    }
   ],
   "source": [
    "High_Income = True\n",
    "Good_credit = True\n",
    "\n",
    "if High_Income and Good_credit:\n",
    "    print(\"Eligible for Loan\")"
   ]
  },
  {
   "cell_type": "code",
   "execution_count": 31,
   "id": "3bda9bfb-ec4c-4ecc-9f66-e5c18ec14fcb",
   "metadata": {},
   "outputs": [
    {
     "name": "stdout",
     "output_type": "stream",
     "text": [
      "You are not eligible\n"
     ]
    }
   ],
   "source": [
    "High_Income = False\n",
    "Good_credit = False\n",
    "\n",
    "if High_Income or Good_credit:\n",
    "    print(\"Eligible for Loan\")\n",
    "else:\n",
    "    print(\"You are not eligible\")"
   ]
  },
  {
   "cell_type": "code",
   "execution_count": 33,
   "id": "32482f79-5efa-4dbe-bbba-47c0fcd071c2",
   "metadata": {},
   "outputs": [
    {
     "name": "stdout",
     "output_type": "stream",
     "text": [
      "Go outside!\n"
     ]
    }
   ],
   "source": [
    "is_raining = False\n",
    "\n",
    "if not is_raining:\n",
    "    print(\"Go outside!\")\n",
    "else:\n",
    "    print(\"Stay indoors.\")"
   ]
  },
  {
   "cell_type": "code",
   "execution_count": 37,
   "id": "b012577e-9403-464a-a638-ee08fb5f7a10",
   "metadata": {},
   "outputs": [
    {
     "name": "stdout",
     "output_type": "stream",
     "text": [
      "Not Mandatory\n"
     ]
    }
   ],
   "source": [
    "# Practice Question\n",
    "# Write an if-else block to print \"Discount given\" only if the person is a student AND has an ID card.\n",
    "is_student = True\n",
    "has_id = False\n",
    "\n",
    "if is_student and has_id:\n",
    "    print(\"Discount given\")\n",
    "else:\n",
    "    print(\"Not Mandatory\")\n",
    "\n"
   ]
  },
  {
   "cell_type": "markdown",
   "id": "bdeae6f5-a82a-4ae7-a2a1-bbeb295241e4",
   "metadata": {},
   "source": [
    "### Camparison Operator"
   ]
  },
  {
   "cell_type": "markdown",
   "id": "4a44897f-7d0a-4067-b4d8-bef4e5a89f06",
   "metadata": {},
   "source": [
    "✅ Comparison Operators:\n",
    "Operator\tName\n",
    "==\tEqual to\n",
    "!=\tNot equal to\n",
    ">\tGreater than\n",
    "<\tLess than\n",
    ">=\tGreater than or equal to\n",
    "<=\tLess than or equal to"
   ]
  },
  {
   "cell_type": "code",
   "execution_count": 56,
   "id": "dd6e36bc-269a-4f70-b546-84921e4de8a2",
   "metadata": {},
   "outputs": [
    {
     "name": "stdin",
     "output_type": "stream",
     "text": [
      "Enter your name:  ali hamza\n"
     ]
    },
    {
     "name": "stdout",
     "output_type": "stream",
     "text": [
      "Good name\n"
     ]
    }
   ],
   "source": [
    "name = input(\"Enter your name: \")\n",
    "\n",
    "if len(name) < 3:\n",
    "    print(\"Name must be at least 3 characters\")\n",
    "elif len(name) > 50:\n",
    "    print(\"Too long name\")\n",
    "else:\n",
    "    print(\"Good name\")\n"
   ]
  },
  {
   "cell_type": "markdown",
   "id": "87ca20a6-0750-4b1b-ab9c-db7b66d9e951",
   "metadata": {},
   "source": [
    "## Weight converter program"
   ]
  },
  {
   "cell_type": "code",
   "execution_count": 61,
   "id": "ea1f72d3-5b9a-410c-9e87-2632bea35136",
   "metadata": {},
   "outputs": [
    {
     "name": "stdin",
     "output_type": "stream",
     "text": [
      "Enter your weight:  67\n",
      "Is this in (K)g or (L)bs?  k\n"
     ]
    },
    {
     "name": "stdout",
     "output_type": "stream",
     "text": [
      "Weight in pounds: 147.40 lbs\n"
     ]
    }
   ],
   "source": [
    "weight = float(input(\"Enter your weight: \"))\n",
    "unit = input(\"Is this in (K)g or (L)bs? \")\n",
    "\n",
    "if unit == \"k\":\n",
    "    converted = weight * 2.2\n",
    "    print(f\"Weight in pounds: {converted:.2f} lbs\")\n",
    "elif unit == \"l\":\n",
    "    converted = weight / 2.2\n",
    "    print(f\"Weight in kilograms: {converted:.2f} kg\")\n",
    "else:\n",
    "    print(\"Invalid unit. Please enter 'K' for kilograms or 'L' for pounds.\")\n"
   ]
  },
  {
   "cell_type": "markdown",
   "id": "2c7c2567-ab6f-4b62-a5b7-6e4528116547",
   "metadata": {},
   "source": [
    "### While Loop"
   ]
  },
  {
   "cell_type": "code",
   "execution_count": 68,
   "id": "d41bdc15-3698-481e-bba1-38dcfaaa0611",
   "metadata": {},
   "outputs": [
    {
     "name": "stdout",
     "output_type": "stream",
     "text": [
      "1\n",
      "2\n",
      "3\n",
      "4\n",
      "5\n",
      "Done\n"
     ]
    }
   ],
   "source": [
    "i=1 \n",
    "while i<=5:\n",
    "    print(i)\n",
    "    i= i+1\n",
    "print(\"Done\")"
   ]
  },
  {
   "cell_type": "code",
   "execution_count": 70,
   "id": "2dc31950-6c4c-48cd-8b80-3dbbb3be17ef",
   "metadata": {},
   "outputs": [
    {
     "name": "stdout",
     "output_type": "stream",
     "text": [
      "*\n",
      "**\n",
      "***\n",
      "****\n",
      "*****\n",
      "Done\n"
     ]
    }
   ],
   "source": [
    "i=1 \n",
    "while i<=5:\n",
    "    print(\"*\" * i)\n",
    "    i= i+1\n",
    "print(\"Done\")"
   ]
  },
  {
   "cell_type": "code",
   "execution_count": 76,
   "id": "1e6adaac-e365-4798-86df-7201f249a562",
   "metadata": {},
   "outputs": [
    {
     "name": "stdin",
     "output_type": "stream",
     "text": [
      "Enter the password:  helo\n",
      "Enter the password:  jd'\n",
      "Enter the password:  s\n",
      "Enter the password:  s\n",
      "Enter the password:  s\n",
      "Enter the password:  s\n",
      "Enter the password:  s\n",
      "Enter the password:  secret\n"
     ]
    },
    {
     "name": "stdout",
     "output_type": "stream",
     "text": [
      "Access granted!\n"
     ]
    }
   ],
   "source": [
    "password = \"\"\n",
    "while password != \"secret\":\n",
    "    password = input(\"Enter the password: \")\n",
    "\n",
    "print(\"Access granted!\")\n"
   ]
  },
  {
   "cell_type": "code",
   "execution_count": 78,
   "id": "9270dca4-eb79-412d-9a56-cc28d17da6af",
   "metadata": {},
   "outputs": [
    {
     "name": "stdout",
     "output_type": "stream",
     "text": [
      "5\n",
      "4\n",
      "3\n",
      "2\n",
      "1\n",
      "Blast off!\n"
     ]
    }
   ],
   "source": [
    "count = 5\n",
    "while count > 0:\n",
    "    print(count)\n",
    "    count -= 1\n",
    "\n",
    "print(\"Blast off!\")\n"
   ]
  },
  {
   "cell_type": "code",
   "execution_count": 80,
   "id": "0f0d2903-e706-4521-b6cb-00d203277940",
   "metadata": {},
   "outputs": [
    {
     "name": "stdin",
     "output_type": "stream",
     "text": [
      "Type something (or 'exit' to stop):  we\n"
     ]
    },
    {
     "name": "stdout",
     "output_type": "stream",
     "text": [
      "You typed: we\n"
     ]
    },
    {
     "name": "stdin",
     "output_type": "stream",
     "text": [
      "Type something (or 'exit' to stop):  helo\n"
     ]
    },
    {
     "name": "stdout",
     "output_type": "stream",
     "text": [
      "You typed: helo\n"
     ]
    },
    {
     "name": "stdin",
     "output_type": "stream",
     "text": [
      "Type something (or 'exit' to stop):  exit\n"
     ]
    },
    {
     "name": "stdout",
     "output_type": "stream",
     "text": [
      "You typed: exit\n"
     ]
    }
   ],
   "source": [
    "command = \"\"\n",
    "while command != \"exit\":\n",
    "    command = input(\"Type something (or 'exit' to stop): \")\n",
    "    print(f\"You typed: {command}\")\n"
   ]
  },
  {
   "cell_type": "markdown",
   "id": "a7f3d076-8c11-420e-8008-a65f6787ffcd",
   "metadata": {},
   "source": [
    "### secret game"
   ]
  },
  {
   "cell_type": "code",
   "execution_count": 97,
   "id": "9d47894a-ff42-4132-9f09-8ccc70b890ce",
   "metadata": {},
   "outputs": [
    {
     "name": "stdin",
     "output_type": "stream",
     "text": [
      "Guess:  2\n",
      "Guess:  8\n"
     ]
    },
    {
     "name": "stdout",
     "output_type": "stream",
     "text": [
      "You won!\n"
     ]
    }
   ],
   "source": [
    "secret_number = 8\n",
    "count = 0\n",
    "limit = 3\n",
    "\n",
    "while count < limit:\n",
    "    guess = int(input(\"Guess: \"))\n",
    "    count += 1\n",
    "    if guess == secret_number:\n",
    "        print(\"You won!\")\n",
    "        break\n",
    "else:\n",
    "    print(\"You lose!\")\n"
   ]
  },
  {
   "cell_type": "markdown",
   "id": "1662213c-61fd-49ac-aac6-05c831d1a4f4",
   "metadata": {},
   "source": [
    "### Car Game"
   ]
  },
  {
   "cell_type": "code",
   "execution_count": 102,
   "id": "39420325-11bb-4dcc-9010-a404c96dd344",
   "metadata": {},
   "outputs": [
    {
     "name": "stdin",
     "output_type": "stream",
     "text": [
      ">  asd\n"
     ]
    },
    {
     "name": "stdout",
     "output_type": "stream",
     "text": [
      "I don't understand that...\n"
     ]
    },
    {
     "name": "stdin",
     "output_type": "stream",
     "text": [
      ">  start\n"
     ]
    },
    {
     "name": "stdout",
     "output_type": "stream",
     "text": [
      "Car started... Ready to go!\n"
     ]
    },
    {
     "name": "stdin",
     "output_type": "stream",
     "text": [
      ">  start\n"
     ]
    },
    {
     "name": "stdout",
     "output_type": "stream",
     "text": [
      "Car is already started.\n"
     ]
    },
    {
     "name": "stdin",
     "output_type": "stream",
     "text": [
      ">  help\n"
     ]
    },
    {
     "name": "stdout",
     "output_type": "stream",
     "text": [
      "\n",
      "        start - to start the car\n",
      "        stop  - to stop the car\n",
      "        quit  - to exit\n",
      "        \n"
     ]
    },
    {
     "name": "stdin",
     "output_type": "stream",
     "text": [
      ">  stop\n"
     ]
    },
    {
     "name": "stdout",
     "output_type": "stream",
     "text": [
      "Car stopped.\n"
     ]
    },
    {
     "name": "stdin",
     "output_type": "stream",
     "text": [
      ">  stop\n"
     ]
    },
    {
     "name": "stdout",
     "output_type": "stream",
     "text": [
      "Car is already stopped.\n"
     ]
    },
    {
     "name": "stdin",
     "output_type": "stream",
     "text": [
      ">  exit\n"
     ]
    },
    {
     "name": "stdout",
     "output_type": "stream",
     "text": [
      "I don't understand that...\n"
     ]
    },
    {
     "name": "stdin",
     "output_type": "stream",
     "text": [
      ">  quit\n"
     ]
    },
    {
     "name": "stdout",
     "output_type": "stream",
     "text": [
      "Exiting game...\n"
     ]
    }
   ],
   "source": [
    "command = \"\"\n",
    "started = False\n",
    "\n",
    "while True:\n",
    "    command = input(\"> \").lower()\n",
    "\n",
    "    if command == \"start\":\n",
    "        if started:\n",
    "            print(\"Car is already started.\")\n",
    "        else:\n",
    "            started = True\n",
    "            print(\"Car started... Ready to go!\")\n",
    "\n",
    "    elif command == \"stop\":\n",
    "        if not started:\n",
    "            print(\"Car is already stopped.\")\n",
    "        else:\n",
    "            started = False\n",
    "            print(\"Car stopped.\")\n",
    "\n",
    "    elif command == \"help\":\n",
    "        print(\"\"\"\n",
    "        start - to start the car\n",
    "        stop  - to stop the car\n",
    "        quit  - to exit\n",
    "        \"\"\")\n",
    "\n",
    "    elif command == \"quit\":\n",
    "        print(\"Exiting game...\")\n",
    "        break\n",
    "\n",
    "    else:\n",
    "        print(\"I don't understand that...\")\n"
   ]
  },
  {
   "cell_type": "markdown",
   "id": "5f5358dc-ba7d-4a8a-b920-4477af3a6614",
   "metadata": {},
   "source": [
    "### For LOOPS"
   ]
  },
  {
   "cell_type": "code",
   "execution_count": 109,
   "id": "3e10f300-8b8c-4608-8b20-ce7f08a8f50e",
   "metadata": {},
   "outputs": [
    {
     "name": "stdout",
     "output_type": "stream",
     "text": [
      "p\n",
      "y\n",
      "t\n",
      "h\n",
      "o\n",
      "n\n"
     ]
    }
   ],
   "source": [
    "for item in \"python\":\n",
    "    print(item)"
   ]
  },
  {
   "cell_type": "code",
   "execution_count": 111,
   "id": "a240365e-06f3-4168-a22a-7d5a9d54461b",
   "metadata": {},
   "outputs": [
    {
     "name": "stdout",
     "output_type": "stream",
     "text": [
      "ali\n",
      "hamza\n"
     ]
    }
   ],
   "source": [
    "for item in ['ali', 'hamza']:\n",
    "    print(item)"
   ]
  },
  {
   "cell_type": "code",
   "execution_count": 113,
   "id": "8f096c7b-68da-45bf-a74c-e203409adfc1",
   "metadata": {},
   "outputs": [
    {
     "name": "stdout",
     "output_type": "stream",
     "text": [
      "1\n",
      "2\n",
      "3\n",
      "4\n",
      "5\n",
      "6\n",
      "7\n"
     ]
    }
   ],
   "source": [
    "for item in [1,2,3,4,5,6,7]:\n",
    "    print(item)"
   ]
  },
  {
   "cell_type": "code",
   "execution_count": 121,
   "id": "5aa08c9c-4e1e-49b2-8813-22cff420a326",
   "metadata": {},
   "outputs": [
    {
     "name": "stdout",
     "output_type": "stream",
     "text": [
      "0\n",
      "1\n",
      "2\n",
      "3\n",
      "4\n",
      "5\n",
      "6\n",
      "7\n",
      "8\n",
      "9\n"
     ]
    }
   ],
   "source": [
    "for item in range(10):\n",
    "    print(item)"
   ]
  },
  {
   "cell_type": "code",
   "execution_count": 123,
   "id": "09da5a0c-351f-4121-9d20-77e5d47db0cd",
   "metadata": {},
   "outputs": [
    {
     "name": "stdout",
     "output_type": "stream",
     "text": [
      "5\n",
      "6\n",
      "7\n",
      "8\n",
      "9\n"
     ]
    }
   ],
   "source": [
    "for sec in range (5, 10):\n",
    "    print(sec)"
   ]
  },
  {
   "cell_type": "code",
   "execution_count": 133,
   "id": "2a333398-50e1-4a10-844f-2929138fc799",
   "metadata": {},
   "outputs": [
    {
     "name": "stdout",
     "output_type": "stream",
     "text": [
      "Total: 60\n"
     ]
    }
   ],
   "source": [
    "price = [10,20,30]\n",
    "total = 0\n",
    "\n",
    "for price in prices:\n",
    "    total+=price\n",
    "print(f\"Total: {total}\")"
   ]
  },
  {
   "cell_type": "markdown",
   "id": "2a11d163-7c74-4bce-b7a7-8c6c6f70cfa8",
   "metadata": {},
   "source": [
    "### NESTED LOOPS"
   ]
  },
  {
   "cell_type": "code",
   "execution_count": 138,
   "id": "119de6b4-18f5-4bb0-99d1-a93114b05ee2",
   "metadata": {},
   "outputs": [
    {
     "name": "stdout",
     "output_type": "stream",
     "text": [
      "(0 , 0 )\n",
      "(0 , 1 )\n",
      "(0 , 2 )\n",
      "(0 , 3 )\n",
      "(1 , 0 )\n",
      "(1 , 1 )\n",
      "(1 , 2 )\n",
      "(1 , 3 )\n",
      "(2 , 0 )\n",
      "(2 , 1 )\n",
      "(2 , 2 )\n",
      "(2 , 3 )\n",
      "(3 , 0 )\n",
      "(3 , 1 )\n",
      "(3 , 2 )\n",
      "(3 , 3 )\n"
     ]
    }
   ],
   "source": [
    "for x in range(4):\n",
    "    for y in range(4):\n",
    "        print(f\"({x} , {y} )\")"
   ]
  },
  {
   "cell_type": "code",
   "execution_count": 140,
   "id": "48899e42-0929-4f1e-85d1-ba0feb81fbff",
   "metadata": {},
   "outputs": [
    {
     "name": "stdout",
     "output_type": "stream",
     "text": [
      "* * * * \n",
      "* * * * \n",
      "* * * * \n"
     ]
    }
   ],
   "source": [
    "for i in range(3):         # rows\n",
    "    for j in range(4):     # columns\n",
    "        print(\"*\", end=\" \")\n",
    "    print()  # move to next line\n"
   ]
  },
  {
   "cell_type": "code",
   "execution_count": 146,
   "id": "24423d04-8c32-4373-8c54-ba04b064babb",
   "metadata": {},
   "outputs": [
    {
     "name": "stdout",
     "output_type": "stream",
     "text": [
      "1 2 3 \n",
      "1 2 3 \n",
      "1 2 3 \n"
     ]
    }
   ],
   "source": [
    "for i in range(1, 4):        # i = 1 to 3\n",
    "    for j in range(1, 4):    # j = 1 to 3\n",
    "        print(j, end=\" \")\n",
    "    print()\n"
   ]
  },
  {
   "cell_type": "code",
   "execution_count": 148,
   "id": "bbb679bc-7a7a-497b-bdc6-153623087836",
   "metadata": {},
   "outputs": [
    {
     "name": "stdout",
     "output_type": "stream",
     "text": [
      "xxxxx\n",
      "xx\n",
      "xxxxx\n",
      "xx\n",
      "xx\n"
     ]
    }
   ],
   "source": [
    "numbers = [5,2,5,2,2]\n",
    "\n",
    "for x_count in numbers:\n",
    "    print(\"x\" *x_count)"
   ]
  },
  {
   "cell_type": "code",
   "execution_count": null,
   "id": "4b90a24c-f8b9-4b44-a801-dc8c9382c576",
   "metadata": {},
   "outputs": [],
   "source": []
  }
 ],
 "metadata": {
  "kernelspec": {
   "display_name": "Python [conda env:base] *",
   "language": "python",
   "name": "conda-base-py"
  },
  "language_info": {
   "codemirror_mode": {
    "name": "ipython",
    "version": 3
   },
   "file_extension": ".py",
   "mimetype": "text/x-python",
   "name": "python",
   "nbconvert_exporter": "python",
   "pygments_lexer": "ipython3",
   "version": "3.12.7"
  }
 },
 "nbformat": 4,
 "nbformat_minor": 5
}
