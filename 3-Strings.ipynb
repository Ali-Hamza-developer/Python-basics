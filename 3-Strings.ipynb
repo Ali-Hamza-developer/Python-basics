{
 "cells": [
  {
   "cell_type": "markdown",
   "id": "0c295a1a-6351-46b5-aa4a-e3d99ab2d5cb",
   "metadata": {},
   "source": [
    "# Strings"
   ]
  },
  {
   "cell_type": "code",
   "execution_count": 2,
   "id": "2539503e-18a0-45d3-97e0-f1af76216bdf",
   "metadata": {},
   "outputs": [
    {
     "name": "stdout",
     "output_type": "stream",
     "text": [
      "Python for beginers\n"
     ]
    }
   ],
   "source": [
    "course = \"Python for beginers\"\n",
    "print(course)"
   ]
  },
  {
   "cell_type": "code",
   "execution_count": 4,
   "id": "53c2893e-3a0e-41f0-b4a4-a355b2e831f2",
   "metadata": {},
   "outputs": [
    {
     "name": "stdout",
     "output_type": "stream",
     "text": [
      "Python for \"beginers\"\n"
     ]
    }
   ],
   "source": [
    "course = 'Python for \"beginers\"'\n",
    "print(course)"
   ]
  },
  {
   "cell_type": "code",
   "execution_count": 12,
   "id": "3ae35ca0-deab-4b41-8dec-4fc1b339be22",
   "metadata": {},
   "outputs": [
    {
     "name": "stdout",
     "output_type": "stream",
     "text": [
      "\n",
      "Hi! I am Ali Hamza.\n",
      "\n",
      "Can you help me.\n",
      "\n"
     ]
    }
   ],
   "source": [
    "course = '''\n",
    "Hi! I am Ali Hamza.\n",
    "\n",
    "Can you help me.\n",
    "'''\n",
    "print(course)"
   ]
  },
  {
   "cell_type": "code",
   "execution_count": 18,
   "id": "981870ec-4122-4854-9bf4-d09441b1623b",
   "metadata": {},
   "outputs": [
    {
     "name": "stdout",
     "output_type": "stream",
     "text": [
      "P\n"
     ]
    }
   ],
   "source": [
    "course = 'Python for \"beginers\"'\n",
    "print(course[0])"
   ]
  },
  {
   "cell_type": "code",
   "execution_count": 22,
   "id": "a68684c7-513f-46ee-aade-4a29f49743f3",
   "metadata": {},
   "outputs": [
    {
     "name": "stdout",
     "output_type": "stream",
     "text": [
      "s\n",
      "i\n"
     ]
    }
   ],
   "source": [
    "course = 'Python for beginers'\n",
    "print(course[-1])\n",
    "print(course[-5])"
   ]
  },
  {
   "cell_type": "code",
   "execution_count": 28,
   "id": "afab6bbc-88cd-4247-b51b-0895072b8006",
   "metadata": {},
   "outputs": [
    {
     "name": "stdout",
     "output_type": "stream",
     "text": [
      "My Nam\n"
     ]
    }
   ],
   "source": [
    "course = 'My Name is ALi Hamza'\n",
    "        #01 2 3456  all characters exluding 6\n",
    "print(course[0:6])"
   ]
  },
  {
   "cell_type": "code",
   "execution_count": 30,
   "id": "d7e74ba2-d600-4c1c-923e-f51d74a29ef0",
   "metadata": {},
   "outputs": [
    {
     "name": "stdout",
     "output_type": "stream",
     "text": [
      "Python for \"beginers\"\n"
     ]
    }
   ],
   "source": [
    "#All return strings\n",
    "course = 'Python for \"beginers\"'\n",
    "print(course[0:])"
   ]
  },
  {
   "cell_type": "code",
   "execution_count": 34,
   "id": "51848a87-0725-444a-8fa2-36e4076688aa",
   "metadata": {},
   "outputs": [
    {
     "name": "stdout",
     "output_type": "stream",
     "text": [
      "ytho\n"
     ]
    }
   ],
   "source": [
    "course = 'Python'\n",
    "print(course[1:-1])"
   ]
  },
  {
   "cell_type": "markdown",
   "id": "85ec4e6b-f2ec-42dd-8ebc-b16234af18a1",
   "metadata": {},
   "source": [
    "# Formatted Strings"
   ]
  },
  {
   "cell_type": "code",
   "execution_count": 57,
   "id": "0f618a66-237a-458b-93b7-39adf6d5e5af",
   "metadata": {},
   "outputs": [
    {
     "name": "stdout",
     "output_type": "stream",
     "text": [
      "Ali [ Hamza ] is a coder\n",
      "Ali [Hamza] is a coder\n",
      "Ali [Hamza] is a coder\n"
     ]
    }
   ],
   "source": [
    "first = \"Ali\"\n",
    "last = \"Hamza\"\n",
    "message = first +' [ ' + last +' ] is a coder'\n",
    "msg  = f'{first} is a coder'\n",
    "msg  = f'{first} [{last}] is a coder'\n",
    "print(message)\n",
    "print(msg)\n",
    "print(msg)"
   ]
  },
  {
   "cell_type": "code",
   "execution_count": 61,
   "id": "4fc23432-f98a-4dfe-a3fe-2aa843416fab",
   "metadata": {},
   "outputs": [
    {
     "name": "stdout",
     "output_type": "stream",
     "text": [
      "My name is Ali and I am 20 years old\n"
     ]
    }
   ],
   "source": [
    "name = \"Ali\"\n",
    "age = 20\n",
    "result = f'My name is {name} and I am {age} years old'\n",
    "print(result)\n"
   ]
  },
  {
   "cell_type": "markdown",
   "id": "1e403377-0e8f-4090-b97d-4b628b7c40bb",
   "metadata": {},
   "source": [
    "# Strings Methods"
   ]
  },
  {
   "cell_type": "code",
   "execution_count": 1,
   "id": "bc4102b3-47a2-471c-90e9-cbaf7f24eb5c",
   "metadata": {},
   "outputs": [
    {
     "name": "stdout",
     "output_type": "stream",
     "text": [
      "16\n"
     ]
    }
   ],
   "source": [
    "subject = 'Hello I am here!'\n",
    "print(len(subject))"
   ]
  },
  {
   "cell_type": "code",
   "execution_count": 5,
   "id": "a19283c4-b199-4a41-b308-bc95350401dc",
   "metadata": {},
   "outputs": [
    {
     "name": "stdout",
     "output_type": "stream",
     "text": [
      "HELLO I AM HERE!\n",
      "hello i am here!\n"
     ]
    }
   ],
   "source": [
    "subject = 'Hello I am here!'\n",
    "print(subject.upper())\n",
    "print(subject.lower())"
   ]
  },
  {
   "cell_type": "code",
   "execution_count": 11,
   "id": "385601cd-1397-4a12-8a08-2fb231453580",
   "metadata": {},
   "outputs": [
    {
     "name": "stdout",
     "output_type": "stream",
     "text": [
      "-1\n"
     ]
    }
   ],
   "source": [
    "sub = \"This is a python Language\"\n",
    "print(sub.find(\"P\"))\n",
    "#BEcuase CAPITAL \"P\" is not exists"
   ]
  },
  {
   "cell_type": "code",
   "execution_count": 17,
   "id": "b6423bdf-d7e8-41f0-b62f-fbd1d1621a81",
   "metadata": {},
   "outputs": [
    {
     "name": "stdout",
     "output_type": "stream",
     "text": [
      "0\n",
      "4\n"
     ]
    }
   ],
   "source": [
    "sub = \"This is a python language\"\n",
    "print(sub.find(\"T\"))\n",
    "print(sub.find(\" \"))"
   ]
  },
  {
   "cell_type": "code",
   "execution_count": 21,
   "id": "480641a3-04a3-4752-87a9-40c5183fb0ea",
   "metadata": {},
   "outputs": [
    {
     "name": "stdout",
     "output_type": "stream",
     "text": [
      "This is a python Tutorial\n"
     ]
    }
   ],
   "source": [
    "sub = \"This is a python language\"\n",
    "print(sub.replace(\"language\", \"Tutorial\"))"
   ]
  },
  {
   "cell_type": "code",
   "execution_count": 33,
   "id": "18623fe0-b722-43b9-a0b2-a565ef8e76d3",
   "metadata": {},
   "outputs": [
    {
     "name": "stdout",
     "output_type": "stream",
     "text": [
      "This Is A Python Language\n"
     ]
    }
   ],
   "source": [
    "sub = \"This is a python language\"\n",
    "print(sub.title())"
   ]
  },
  {
   "cell_type": "markdown",
   "id": "e17b8c23-e744-408e-89de-904b4a0d162d",
   "metadata": {},
   "source": [
    "**Sequence of characters**"
   ]
  },
  {
   "cell_type": "code",
   "execution_count": 25,
   "id": "ddc4d0dd-5257-49d2-b977-e00822d6eeef",
   "metadata": {},
   "outputs": [
    {
     "name": "stdout",
     "output_type": "stream",
     "text": [
      "True\n"
     ]
    }
   ],
   "source": [
    "course = \"Python is my favourite\"\n",
    "print(\"Python\" in course)"
   ]
  },
  {
   "cell_type": "code",
   "execution_count": 27,
   "id": "f8fb878f-6eb3-4f69-ae93-0ec9323d0974",
   "metadata": {},
   "outputs": [
    {
     "name": "stdout",
     "output_type": "stream",
     "text": [
      "False\n"
     ]
    }
   ],
   "source": [
    "course = \"Python is my favourite\"\n",
    "print(\"Language\" in course)"
   ]
  },
  {
   "cell_type": "markdown",
   "id": "3fbb01f3-8d64-4574-9128-d9e9f350f71d",
   "metadata": {},
   "source": [
    "*ALL ABOUT STRINGS* "
   ]
  },
  {
   "cell_type": "code",
   "execution_count": null,
   "id": "62cb94d3-b07b-4323-b204-9d7399aeb4f9",
   "metadata": {},
   "outputs": [],
   "source": []
  },
  {
   "cell_type": "code",
   "execution_count": null,
   "id": "90244ecb-d186-4b31-bd3a-59f1397253f4",
   "metadata": {},
   "outputs": [],
   "source": [
    "s = \"Python\"\n",
    "\n",
    "# Accessing individual characters\n",
    "print(s[0])   # Output: P\n",
    "print(s[3])   # Output: h\n",
    "print(s[-1])  # Output: n (last character)\n",
    "\n",
    "# Slicing (extracting substrings)\n",
    "print(s[0:3]) # Output: Pyt (characters from index 0 up to (but not including) 3)\n",
    "print(s[2:])  # Output: thon (from index 2 to the end)\n",
    "print(s[:4])  # Output: Pyth (from the beginning up to (not including) index 4)\n",
    "print(s[:])   # Output: Python (the whole string)\n",
    "print(s[::2]) # Output: Pto (every second character)\n",
    "print(s[::-1])# Output: nohtyP (reversed string)"
   ]
  },
  {
   "cell_type": "code",
   "execution_count": null,
   "id": "5fcdfe14-9fe7-4cb7-8520-33f5f7b5ae04",
   "metadata": {},
   "outputs": [],
   "source": [
    "text = \"PyThOn PrOgRaMmInG\"\n",
    "print(text.lower())      # python programming\n",
    "print(text.upper())      # PYTHON PROGRAMMING\n",
    "print(text.capitalize()) # Python programming\n",
    "print(text.title())      # Python Programming\n",
    "print(text.swapcase())   # pYtHoN pRoGrAmMiNg"
   ]
  },
  {
   "cell_type": "code",
   "execution_count": null,
   "id": "0c7bd3cb-77b0-4bd8-af97-4a539e0a8801",
   "metadata": {},
   "outputs": [],
   "source": [
    "sentence = \"The quick brown fox jumps over the lazy dog.\"\n",
    "print(sentence.count(\"the\"))    # 2\n",
    "print(sentence.find(\"fox\"))     # 16\n",
    "print(sentence.replace(\"dog\", \"cat\")) # The quick brown fox jumps over the lazy cat.\n",
    "print(sentence.startswith(\"The\")) # True\n",
    "print(sentence.endswith(\".\"))     # True"
   ]
  },
  {
   "cell_type": "code",
   "execution_count": null,
   "id": "0d47ed5a-fae3-45ee-be2a-ec7bb6bdf3eb",
   "metadata": {},
   "outputs": [],
   "source": [
    "name = \"Alice\"\n",
    "age = 30\n",
    "message = f\"Hello, {name}! You are {age} years old.\"\n",
    "print(message) # Hello, Alice! You are 30 years old.\n",
    "\n",
    "# With expressions\n",
    "price = 19.99\n",
    "quantity = 2\n",
    "total = f\"Your total is ${price * quantity:.2f}\" # .2f for 2 decimal places\n",
    "print(total) # Your total is $39.98"
   ]
  }
 ],
 "metadata": {
  "kernelspec": {
   "display_name": "Python [conda env:base] *",
   "language": "python",
   "name": "conda-base-py"
  },
  "language_info": {
   "codemirror_mode": {
    "name": "ipython",
    "version": 3
   },
   "file_extension": ".py",
   "mimetype": "text/x-python",
   "name": "python",
   "nbconvert_exporter": "python",
   "pygments_lexer": "ipython3",
   "version": "3.12.7"
  }
 },
 "nbformat": 4,
 "nbformat_minor": 5
}
