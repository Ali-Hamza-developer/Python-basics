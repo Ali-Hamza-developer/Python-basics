{
 "cells": [
  {
   "cell_type": "markdown",
   "id": "b0f1987b-af5d-4154-8250-6e25dbacffd2",
   "metadata": {},
   "source": [
    "# Dictionaries"
   ]
  },
  {
   "cell_type": "code",
   "execution_count": 2,
   "id": "11e91637-50a6-44c7-a610-8693e78083d6",
   "metadata": {},
   "outputs": [],
   "source": [
    "student = {\n",
    "    \"name\": \"Ali\",\n",
    "    \"age\": 22,\n",
    "    \"grade\": \"A\"\n",
    "}\n"
   ]
  },
  {
   "cell_type": "code",
   "execution_count": 4,
   "id": "f66bf297-d071-476a-88a4-60c3675f6196",
   "metadata": {},
   "outputs": [
    {
     "name": "stdout",
     "output_type": "stream",
     "text": [
      "Ali\n"
     ]
    }
   ],
   "source": [
    "print(student[\"name\"])  # Output: Ali\n",
    "\n"
   ]
  },
  {
   "cell_type": "code",
   "execution_count": 8,
   "id": "83656490-27d9-4091-b787-350cd2852604",
   "metadata": {},
   "outputs": [
    {
     "name": "stdout",
     "output_type": "stream",
     "text": [
      "Corolla\n",
      "brand: Toyota\n",
      "model: Corolla\n",
      "year: 2022\n",
      "color: White\n"
     ]
    }
   ],
   "source": [
    "car = {\n",
    "    \"brand\": \"Toyota\",\n",
    "    \"model\": \"Corolla\",\n",
    "    \"year\": 2021\n",
    "}\n",
    "\n",
    "# Add a new key\n",
    "car[\"color\"] = \"White\"\n",
    "\n",
    "# Update year\n",
    "car[\"year\"] = 2022\n",
    "\n",
    "# Access value\n",
    "print(car[\"model\"])\n",
    "\n",
    "# Loop\n",
    "for key, value in car.items():\n",
    "    print(f\"{key}: {value}\")\n"
   ]
  },
  {
   "cell_type": "markdown",
   "id": "a527e3d1-6972-49bc-95f4-be09f9b8999b",
   "metadata": {},
   "source": [
    "## Emoji Convertor"
   ]
  },
  {
   "cell_type": "code",
   "execution_count": 13,
   "id": "cc0a9b75-9540-47bc-84a1-ae14eb4a651b",
   "metadata": {},
   "outputs": [
    {
     "name": "stdin",
     "output_type": "stream",
     "text": [
      "Enter your message:  helo\n"
     ]
    },
    {
     "name": "stdout",
     "output_type": "stream",
     "text": [
      "Converted Message: helo \n"
     ]
    }
   ],
   "source": [
    "# Emoji Dictionary\n",
    "emoji_dict = {\n",
    "    \"happy\": \"😊\",\n",
    "    \"sad\": \"😢\",\n",
    "    \"love\": \"❤️\",\n",
    "    \"laugh\": \"😂\",\n",
    "    \"angry\": \"😠\",\n",
    "    \"cool\": \"😎\"\n",
    "}\n",
    "\n",
    "# Input from user\n",
    "message = input(\"Enter your message: \")\n",
    "\n",
    "# Convert message\n",
    "words = message.split()  # Split message into words\n",
    "output = \"\"\n",
    "\n",
    "for word in words:\n",
    "    output += emoji_dict.get(word, word) + \" \"\n",
    "\n",
    "print(\"Converted Message:\", output)\n"
   ]
  },
  {
   "cell_type": "code",
   "execution_count": 17,
   "id": "309337f2-ed6c-43a7-999e-2db27db4f2d0",
   "metadata": {},
   "outputs": [
    {
     "name": "stdin",
     "output_type": "stream",
     "text": [
      "Enter name:  Ali\n"
     ]
    },
    {
     "name": "stdout",
     "output_type": "stream",
     "text": [
      "Phone: 0300-1234567\n"
     ]
    }
   ],
   "source": [
    "#Contact Book\n",
    "contacts = {\n",
    "    \"Ali\": \"0300-1234567\",\n",
    "    \"Sara\": \"0321-9876543\"\n",
    "}\n",
    "\n",
    "name = input(\"Enter name: \")\n",
    "print(\"Phone:\", contacts.get(name, \"Not found\"))\n"
   ]
  },
  {
   "cell_type": "code",
   "execution_count": 19,
   "id": "e525d821-2c9a-48be-b139-fdbbc40bc2c7",
   "metadata": {},
   "outputs": [
    {
     "name": "stdout",
     "output_type": "stream",
     "text": [
      "Average Marks: 90.0\n"
     ]
    }
   ],
   "source": [
    "#Grade calculator\n",
    "marks = {\n",
    "    \"Math\": 90,\n",
    "    \"English\": 85,\n",
    "    \"Science\": 95\n",
    "}\n",
    "\n",
    "total = sum(marks.values())\n",
    "average = total / len(marks)\n",
    "print(\"Average Marks:\", average)\n"
   ]
  },
  {
   "cell_type": "code",
   "execution_count": 21,
   "id": "c8aa1f61-88d3-4074-9605-05c18c4a6643",
   "metadata": {},
   "outputs": [
    {
     "name": "stdout",
     "output_type": "stream",
     "text": [
      "Total Bill: 800\n"
     ]
    }
   ],
   "source": [
    "#Shopping CArt\n",
    "cart = {\n",
    "    \"apple\": 3,     # quantity\n",
    "    \"banana\": 5,\n",
    "    \"milk\": 2\n",
    "}\n",
    "\n",
    "prices = {\n",
    "    \"apple\": 100,\n",
    "    \"banana\": 40,\n",
    "    \"milk\": 150\n",
    "}\n",
    "\n",
    "total = 0\n",
    "for item, qty in cart.items():\n",
    "    total += qty * prices.get(item, 0)\n",
    "\n",
    "print(\"Total Bill:\", total)\n"
   ]
  },
  {
   "cell_type": "code",
   "execution_count": null,
   "id": "36c11d73-eff4-442a-ae52-92e864faafa6",
   "metadata": {},
   "outputs": [],
   "source": []
  }
 ],
 "metadata": {
  "kernelspec": {
   "display_name": "Python [conda env:base] *",
   "language": "python",
   "name": "conda-base-py"
  },
  "language_info": {
   "codemirror_mode": {
    "name": "ipython",
    "version": 3
   },
   "file_extension": ".py",
   "mimetype": "text/x-python",
   "name": "python",
   "nbconvert_exporter": "python",
   "pygments_lexer": "ipython3",
   "version": "3.12.7"
  }
 },
 "nbformat": 4,
 "nbformat_minor": 5
}
