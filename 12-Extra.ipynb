{
 "cells": [
  {
   "cell_type": "code",
   "execution_count": 1,
   "id": "d7828c8c-4557-4265-a826-bb012078cab3",
   "metadata": {},
   "outputs": [],
   "source": [
    "import math\n",
    "import random\n",
    "import datetime\n"
   ]
  },
  {
   "cell_type": "code",
   "execution_count": 3,
   "id": "d02482fb-f3f9-4464-8f43-d6bfe83fd91d",
   "metadata": {},
   "outputs": [
    {
     "name": "stdout",
     "output_type": "stream",
     "text": [
      "Square root of 25 is: 5.0\n",
      "2 raised to the power 3 is: 8.0\n",
      "Value of pi: 3.141592653589793\n",
      "Sine of 90 degrees (in radians): 1.0\n"
     ]
    }
   ],
   "source": [
    "# Square root\n",
    "print(\"Square root of 25 is:\", math.sqrt(25))\n",
    "\n",
    "# Power\n",
    "print(\"2 raised to the power 3 is:\", math.pow(2, 3))\n",
    "\n",
    "# Value of pi\n",
    "print(\"Value of pi:\", math.pi)\n",
    "\n",
    "# Trigonometry\n",
    "print(\"Sine of 90 degrees (in radians):\", math.sin(math.radians(90)))\n"
   ]
  },
  {
   "cell_type": "code",
   "execution_count": 5,
   "id": "499d7b59-93e9-4967-bc21-1996382d0d5f",
   "metadata": {},
   "outputs": [
    {
     "name": "stdout",
     "output_type": "stream",
     "text": [
      "Random number: 4\n",
      "Random float: 0.19759864733729293\n",
      "Shuffled list: [4, 1, 3, 5, 2]\n",
      "Random color: green\n"
     ]
    }
   ],
   "source": [
    "# Random integer between 1 and 10\n",
    "print(\"Random number:\", random.randint(1, 10))\n",
    "\n",
    "# Random float between 0 and 1\n",
    "print(\"Random float:\", random.random())\n",
    "\n",
    "# Shuffle a list\n",
    "items = [1, 2, 3, 4, 5]\n",
    "random.shuffle(items)\n",
    "print(\"Shuffled list:\", items)\n",
    "\n",
    "# Choose a random item\n",
    "colors = ['red', 'blue', 'green']\n",
    "print(\"Random color:\", random.choice(colors))\n"
   ]
  },
  {
   "cell_type": "code",
   "execution_count": 7,
   "id": "9f9040fd-29ac-4cc0-b8fb-db2fe7b394a5",
   "metadata": {},
   "outputs": [
    {
     "name": "stdout",
     "output_type": "stream",
     "text": [
      "Current date & time: 2025-07-08 18:29:30.931697\n",
      "Today's date: 2025-07-08\n",
      "My birthday: 2000-01-01\n",
      "Days until 2025 ends: 176\n"
     ]
    }
   ],
   "source": [
    "# Current date and time\n",
    "now = datetime.datetime.now()\n",
    "print(\"Current date & time:\", now)\n",
    "\n",
    "# Today's date\n",
    "today = datetime.date.today()\n",
    "print(\"Today's date:\", today)\n",
    "\n",
    "# Custom date\n",
    "my_birthday = datetime.date(2000, 1, 1)\n",
    "print(\"My birthday:\", my_birthday)\n",
    "\n",
    "# Difference between dates\n",
    "future = datetime.date(2025, 12, 31)\n",
    "difference = future - today\n",
    "print(\"Days until 2025 ends:\", difference.days)\n"
   ]
  },
  {
   "cell_type": "code",
   "execution_count": 9,
   "id": "08fb15fa-5c49-4dd8-b8bc-864675ea2357",
   "metadata": {},
   "outputs": [
    {
     "name": "stdout",
     "output_type": "stream",
     "text": [
      "Random Number: 75\n",
      "Square Root: 8.660254037844387\n",
      "Today: 2025-07-08\n",
      "You should: Read\n"
     ]
    }
   ],
   "source": [
    "# Generate a random number and show square root\n",
    "num = random.randint(10, 100)\n",
    "print(\"Random Number:\", num)\n",
    "print(\"Square Root:\", math.sqrt(num))\n",
    "\n",
    "# Show today's date and time + random activity\n",
    "activities = ['Study', 'Exercise', 'Read', 'Code']\n",
    "print(\"Today:\", datetime.date.today())\n",
    "print(\"You should:\", random.choice(activities))\n"
   ]
  },
  {
   "cell_type": "code",
   "execution_count": null,
   "id": "1acd5d8e-a1fe-4679-a983-687c98ccd0d7",
   "metadata": {},
   "outputs": [],
   "source": []
  }
 ],
 "metadata": {
  "kernelspec": {
   "display_name": "Python [conda env:base] *",
   "language": "python",
   "name": "conda-base-py"
  },
  "language_info": {
   "codemirror_mode": {
    "name": "ipython",
    "version": 3
   },
   "file_extension": ".py",
   "mimetype": "text/x-python",
   "name": "python",
   "nbconvert_exporter": "python",
   "pygments_lexer": "ipython3",
   "version": "3.12.7"
  }
 },
 "nbformat": 4,
 "nbformat_minor": 5
}
