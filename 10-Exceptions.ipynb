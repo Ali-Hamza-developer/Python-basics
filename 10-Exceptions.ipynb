{
 "cells": [
  {
   "cell_type": "markdown",
   "id": "e1625f05-2414-48d3-aeaa-67dfb4121793",
   "metadata": {},
   "source": [
    "# Exceptions"
   ]
  },
  {
   "cell_type": "code",
   "execution_count": 6,
   "id": "4861f352-5ced-469f-8622-e890b3725c8f",
   "metadata": {},
   "outputs": [
    {
     "name": "stdin",
     "output_type": "stream",
     "text": [
      "Enter number:  2\n"
     ]
    },
    {
     "name": "stdout",
     "output_type": "stream",
     "text": [
      "2\n"
     ]
    }
   ],
   "source": [
    "try:\n",
    "    result = int(input(\"Enter number: \"))\n",
    "    print(result)\n",
    "except ValueError:\n",
    "    print(\"Invalid input! Please enter a number.\")\n"
   ]
  },
  {
   "cell_type": "code",
   "execution_count": 12,
   "id": "00c5d428-d0d7-4bce-9599-079869ee6362",
   "metadata": {},
   "outputs": [
    {
     "name": "stdin",
     "output_type": "stream",
     "text": [
      "Enter Age:  0\n"
     ]
    },
    {
     "name": "stdout",
     "output_type": "stream",
     "text": [
      "Age cannot be 0\n"
     ]
    }
   ],
   "source": [
    "try:\n",
    "    age = int(input(\"Enter Age: \"))\n",
    "    income = 10000\n",
    "    risk = income/age\n",
    "    \n",
    "    print(age)\n",
    "except ZeroDivisionError:\n",
    "    print(\"Age cannot be 0\")\n",
    "except ValueError:\n",
    "    print(\"Invalid input! Please enter a number.\")\n"
   ]
  },
  {
   "cell_type": "code",
   "execution_count": 18,
   "id": "8a84f37c-363b-4f77-8f9a-ed31459dd88b",
   "metadata": {},
   "outputs": [
    {
     "name": "stdin",
     "output_type": "stream",
     "text": [
      "Enter first number:  12\n",
      "Enter second number:  21\n"
     ]
    },
    {
     "name": "stdout",
     "output_type": "stream",
     "text": [
      "Division Result: 0.5714285714285714\n",
      "As Float: 0.5714285714285714\n"
     ]
    },
    {
     "name": "stdin",
     "output_type": "stream",
     "text": [
      "Enter index (0-2):  2\n"
     ]
    },
    {
     "name": "stdout",
     "output_type": "stream",
     "text": [
      "List element: 30\n",
      "❌ FileNotFoundError: The file 'sample.txt' was not found.\n"
     ]
    }
   ],
   "source": [
    "try:\n",
    "    # 1. Input conversion\n",
    "    num1 = int(input(\"Enter first number: \"))\n",
    "    num2 = int(input(\"Enter second number: \"))\n",
    "\n",
    "    # 2. Division\n",
    "    result = num1 / num2\n",
    "    print(\"Division Result:\", result)\n",
    "\n",
    "    # 3. Type conversion\n",
    "    float_result = float(result)\n",
    "    print(\"As Float:\", float_result)\n",
    "\n",
    "    # 4. List index error\n",
    "    \n",
    "    my_list = [10, 20, 30]\n",
    "    index = int(input(\"Enter index (0-2): \"))\n",
    "    print(\"List element:\", my_list[index])\n",
    "\n",
    "    # 5. File handling\n",
    "    file = open(\"sample.txt\", \"r\")\n",
    "    print(\"File Content:\", file.read())\n",
    "    file.close()\n",
    "\n",
    "except ValueError:\n",
    "    print(\"❌ ValueError: Please enter only numeric values.\")\n",
    "\n",
    "except ZeroDivisionError:\n",
    "    print(\"❌ ZeroDivisionError: Cannot divide by zero.\")\n",
    "\n",
    "except IndexError:\n",
    "    print(\"❌ IndexError: Index out of range in list.\")\n",
    "\n",
    "except FileNotFoundError:\n",
    "    print(\"❌ FileNotFoundError: The file 'sample.txt' was not found.\")\n",
    "\n",
    "except Exception as e:\n",
    "    print(f\"❌ Other Error: {e}\")\n"
   ]
  },
  {
   "cell_type": "code",
   "execution_count": null,
   "id": "22ddba0c-6522-4a82-8577-d836f94512aa",
   "metadata": {},
   "outputs": [],
   "source": []
  }
 ],
 "metadata": {
  "kernelspec": {
   "display_name": "Python [conda env:base] *",
   "language": "python",
   "name": "conda-base-py"
  },
  "language_info": {
   "codemirror_mode": {
    "name": "ipython",
    "version": 3
   },
   "file_extension": ".py",
   "mimetype": "text/x-python",
   "name": "python",
   "nbconvert_exporter": "python",
   "pygments_lexer": "ipython3",
   "version": "3.12.7"
  }
 },
 "nbformat": 4,
 "nbformat_minor": 5
}
