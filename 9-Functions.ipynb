{
 "cells": [
  {
   "cell_type": "markdown",
   "id": "2796275f-87f7-4ee7-a6fe-1c18afbd8951",
   "metadata": {},
   "source": [
    "# Functions"
   ]
  },
  {
   "cell_type": "code",
   "execution_count": 2,
   "id": "8275f579-98f4-46da-baf1-80ac2e76e795",
   "metadata": {},
   "outputs": [
    {
     "name": "stdout",
     "output_type": "stream",
     "text": [
      "Hello! Welcome to Python.\n"
     ]
    }
   ],
   "source": [
    "def greet():\n",
    "    print(\"Hello! Welcome to Python.\")\n",
    "\n",
    "greet()  # Calling the function\n",
    "\n"
   ]
  },
  {
   "cell_type": "code",
   "execution_count": 4,
   "id": "42472c0e-f638-411f-b707-97613057d97c",
   "metadata": {},
   "outputs": [
    {
     "name": "stdout",
     "output_type": "stream",
     "text": [
      "Hello Ali\n"
     ]
    }
   ],
   "source": [
    "#Function with parameters\n",
    "def greet(name):\n",
    "    print(\"Hello\", name)\n",
    "\n",
    "greet(\"Ali\")  # Output: Hello Ali\n"
   ]
  },
  {
   "cell_type": "code",
   "execution_count": 6,
   "id": "0bad7fbe-aa07-427c-9abf-2a636a7456c8",
   "metadata": {},
   "outputs": [
    {
     "name": "stdout",
     "output_type": "stream",
     "text": [
      "Sum :  9\n"
     ]
    }
   ],
   "source": [
    "def add(a,b):\n",
    "    print(\"Sum : \",  a+b)\n",
    "add(4,5)"
   ]
  },
  {
   "cell_type": "code",
   "execution_count": 8,
   "id": "e4b1ef35-219c-4aba-9019-ec0f4059faee",
   "metadata": {},
   "outputs": [
    {
     "name": "stdout",
     "output_type": "stream",
     "text": [
      "Multiply 10\n"
     ]
    }
   ],
   "source": [
    "def multiply(x,y):\n",
    "    return x*y\n",
    "\n",
    "result = multiply(2,5)\n",
    "print(\"Multiply\", result)"
   ]
  },
  {
   "cell_type": "code",
   "execution_count": 10,
   "id": "d369a3cc-655e-49d1-8280-0884376f3be4",
   "metadata": {},
   "outputs": [
    {
     "name": "stdout",
     "output_type": "stream",
     "text": [
      "0\n",
      "2\n",
      "4\n",
      "6\n",
      "8\n"
     ]
    }
   ],
   "source": [
    "def print_even(n):\n",
    "    for i in range(n):\n",
    "        if i % 2 == 0:\n",
    "            print(i)\n",
    "\n",
    "print_even(10)\n"
   ]
  },
  {
   "cell_type": "markdown",
   "id": "2e29c279-7aaa-4703-8c8c-5eb7a8410eea",
   "metadata": {},
   "source": [
    "## Keywords Arguments"
   ]
  },
  {
   "cell_type": "code",
   "execution_count": 13,
   "id": "8bddc181-b3e2-49b1-914f-059b31b391fd",
   "metadata": {},
   "outputs": [
    {
     "name": "stdout",
     "output_type": "stream",
     "text": [
      "Name: Ali, Age: 21\n",
      "Name: Ali, Age: 21\n"
     ]
    }
   ],
   "source": [
    "def student(name, age):\n",
    "    print(f\"Name: {name}, Age: {age}\")\n",
    "\n",
    "# Positional arguments (order matters)\n",
    "student(\"Ali\", 21)\n",
    "\n",
    "# ✅ Keyword arguments (order doesn't matter)\n",
    "student(age=21, name=\"Ali\")\n"
   ]
  },
  {
   "cell_type": "code",
   "execution_count": 15,
   "id": "0bc08f97-0f95-486c-97f3-eb2f858a73c3",
   "metadata": {},
   "outputs": [
    {
     "name": "stdout",
     "output_type": "stream",
     "text": [
      "Name: Ali, Age: 22, City: Lahore\n"
     ]
    }
   ],
   "source": [
    "def profile(name, age, city):\n",
    "    print(f\"Name: {name}, Age: {age}, City: {city}\")\n",
    "\n",
    "# Mixed call\n",
    "profile(\"Ali\", city=\"Lahore\", age=22)\n"
   ]
  },
  {
   "cell_type": "code",
   "execution_count": 19,
   "id": "5967d14c-17ac-41ea-95c1-cae0feca8080",
   "metadata": {},
   "outputs": [
    {
     "name": "stdout",
     "output_type": "stream",
     "text": [
      "Name: Hamza, Age: 22 , City: High \n"
     ]
    }
   ],
   "source": [
    "def customer(name, age, price):\n",
    "    print(f\"Name: {name}, Age: {age} , City: {price} \")\n",
    "\n",
    "customer(\"Hamza\", age = 22, price = \"High\")"
   ]
  }
 ],
 "metadata": {
  "kernelspec": {
   "display_name": "Python [conda env:base] *",
   "language": "python",
   "name": "conda-base-py"
  },
  "language_info": {
   "codemirror_mode": {
    "name": "ipython",
    "version": 3
   },
   "file_extension": ".py",
   "mimetype": "text/x-python",
   "name": "python",
   "nbconvert_exporter": "python",
   "pygments_lexer": "ipython3",
   "version": "3.12.7"
  }
 },
 "nbformat": 4,
 "nbformat_minor": 5
}
